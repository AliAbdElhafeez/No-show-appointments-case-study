{
 "cells": [
  {
   "cell_type": "markdown",
   "id": "f98f0cce",
   "metadata": {
    "papermill": {
     "duration": 0.027676,
     "end_time": "2022-01-17T04:05:52.776873",
     "exception": false,
     "start_time": "2022-01-17T04:05:52.749197",
     "status": "completed"
    },
    "tags": []
   },
   "source": [
    "#### 11/15/2021\n",
    "<a id='intro'></a>\n",
    "## Introduction\n",
    "This is a no-show appointments case study on the relation between the age of the patient and his health status and how it affects his showing up for their scheduled appointments?\n",
    "\n",
    "### Dataset Description \n",
    "\n",
    "This dataset collects information from 100k medical appointments in Brazil and is focused on the question of whether or not patients show up for their appointment.\n",
    "The medical appointments data is [here](https://www.kaggle.com/joniarroba/noshowappointments). \n",
    "The data consists of one CSV file, The file contains 14 columns and 110527 non-null rows including patient ID, appointment ID, scheduled and appointment days, personal information like gender, age, patient's neighborhood, membership in Bolsa Família, patient's health status like if the patient is alcoholic, diabetic or has hypertension or has a handicap and if the patient received an SMS message and if the patient showed up to the appointment or not.\n",
    "\n",
    "\n",
    "### Question for Analysis\n",
    "\n",
    "Does the age of the patient and his health status affect his showing up for their scheduled appointments?\n",
    "\n",
    "## Set up the environment\n"
   ]
  },
  {
   "cell_type": "code",
   "execution_count": 1,
   "id": "af57b352",
   "metadata": {
    "execution": {
     "iopub.execute_input": "2022-01-17T04:05:52.837963Z",
     "iopub.status.busy": "2022-01-17T04:05:52.836737Z",
     "iopub.status.idle": "2022-01-17T04:05:52.843312Z",
     "shell.execute_reply": "2022-01-17T04:05:52.843878Z",
     "shell.execute_reply.started": "2022-01-15T08:33:37.07551Z"
    },
    "papermill": {
     "duration": 0.043675,
     "end_time": "2022-01-17T04:05:52.844309",
     "exception": false,
     "start_time": "2022-01-17T04:05:52.800634",
     "status": "completed"
    },
    "tags": []
   },
   "outputs": [],
   "source": [
    "# Set up the environment\n",
    "\n",
    "import pandas as pd\n",
    "import numpy as np\n",
    "import matplotlib.pyplot as plt\n",
    "import matplotlib.patches as mpatches\n",
    "%matplotlib inline"
   ]
  },
  {
   "cell_type": "markdown",
   "id": "d9aac303",
   "metadata": {
    "papermill": {
     "duration": 0.023739,
     "end_time": "2022-01-17T04:05:52.891990",
     "exception": false,
     "start_time": "2022-01-17T04:05:52.868251",
     "status": "completed"
    },
    "tags": []
   },
   "source": [
    "## Loading our data"
   ]
  },
  {
   "cell_type": "code",
   "execution_count": 2,
   "id": "7abeb156",
   "metadata": {
    "execution": {
     "iopub.execute_input": "2022-01-17T04:05:52.944584Z",
     "iopub.status.busy": "2022-01-17T04:05:52.943932Z",
     "iopub.status.idle": "2022-01-17T04:05:53.447959Z",
     "shell.execute_reply": "2022-01-17T04:05:53.446838Z",
     "shell.execute_reply.started": "2022-01-15T08:33:37.111368Z"
    },
    "papermill": {
     "duration": 0.532364,
     "end_time": "2022-01-17T04:05:53.448265",
     "exception": false,
     "start_time": "2022-01-17T04:05:52.915901",
     "status": "completed"
    },
    "tags": []
   },
   "outputs": [],
   "source": [
    "# Loading data\n",
    "no_show_appointments=pd.read_csv('/kaggle/input/noshowappointments/KaggleV2-May-2016.csv')"
   ]
  },
  {
   "cell_type": "markdown",
   "id": "9c557bab",
   "metadata": {
    "papermill": {
     "duration": 0.022732,
     "end_time": "2022-01-17T04:05:53.494800",
     "exception": false,
     "start_time": "2022-01-17T04:05:53.472068",
     "status": "completed"
    },
    "tags": []
   },
   "source": [
    "\n",
    "## Cleaning and processing data\n",
    "\n",
    "First, start by renaming the column and removing misspelled words. And then exclude children who are less than 10 years old who are not responsible for their nonattendance and we did not have data about their parents. "
   ]
  },
  {
   "cell_type": "code",
   "execution_count": 3,
   "id": "09559d0d",
   "metadata": {
    "execution": {
     "iopub.execute_input": "2022-01-17T04:05:53.552684Z",
     "iopub.status.busy": "2022-01-17T04:05:53.550812Z",
     "iopub.status.idle": "2022-01-17T04:05:53.600084Z",
     "shell.execute_reply": "2022-01-17T04:05:53.600625Z",
     "shell.execute_reply.started": "2022-01-15T08:33:37.545492Z"
    },
    "papermill": {
     "duration": 0.080693,
     "end_time": "2022-01-17T04:05:53.600817",
     "exception": false,
     "start_time": "2022-01-17T04:05:53.520124",
     "status": "completed"
    },
    "tags": []
   },
   "outputs": [],
   "source": [
    "# rename the columns\n",
    "no_show_appointments=no_show_appointments.rename(columns={\"No-show\": \"No_show\", \"Handcap\": \"Handicap\", \"Hipertension\": \"Hypertension\"})\n",
    "\n",
    "# excluding children less than 10 years\n",
    "no_show_appointments = no_show_appointments.query('Age > 10')\n"
   ]
  },
  {
   "cell_type": "markdown",
   "id": "25c1c10d",
   "metadata": {
    "papermill": {
     "duration": 0.022856,
     "end_time": "2022-01-17T04:05:53.648775",
     "exception": false,
     "start_time": "2022-01-17T04:05:53.625919",
     "status": "completed"
    },
    "tags": []
   },
   "source": [
    "The following graph shows the patient not showing up to an appointment as yes, And no to the patient showing up to an appointment."
   ]
  },
  {
   "cell_type": "code",
   "execution_count": 4,
   "id": "e30836ab",
   "metadata": {
    "execution": {
     "iopub.execute_input": "2022-01-17T04:05:53.706183Z",
     "iopub.status.busy": "2022-01-17T04:05:53.705404Z",
     "iopub.status.idle": "2022-01-17T04:05:54.259689Z",
     "shell.execute_reply": "2022-01-17T04:05:54.260282Z",
     "shell.execute_reply.started": "2022-01-15T08:33:37.597226Z"
    },
    "papermill": {
     "duration": 0.588193,
     "end_time": "2022-01-17T04:05:54.260472",
     "exception": false,
     "start_time": "2022-01-17T04:05:53.672279",
     "status": "completed"
    },
    "tags": []
   },
   "outputs": [
    {
     "data": {
      "image/png": "[encoded data removed]",
      "text/plain": [
       "<Figure size 1008x576 with 1 Axes>"
      ]
     },
     "metadata": {
      "needs_background": "light"
     },
     "output_type": "display_data"
    }
   ],
   "source": [
    "# showing up vs not showing up patients\n",
    "\n",
    "fig,fg=plt.subplots(figsize=(14, 8))\n",
    "no_show_appointments['No_show'].value_counts().plot(kind = 'bar', fontsize=18, rot=0)\n",
    "fg.set_ylabel('Number of patients', fontsize=18)\n",
    "fg.set_xlabel('Not showing up patients', fontsize=18)\n",
    "fg.set_title('Not Showing up vs showing up patients', fontsize=18)\n",
    "plt.show;"
   ]
  },
  {
   "cell_type": "code",
   "execution_count": 5,
   "id": "e22c7f93",
   "metadata": {
    "execution": {
     "iopub.execute_input": "2022-01-17T04:05:54.335507Z",
     "iopub.status.busy": "2022-01-17T04:05:54.333877Z",
     "iopub.status.idle": "2022-01-17T04:05:54.342317Z",
     "shell.execute_reply": "2022-01-17T04:05:54.341634Z",
     "shell.execute_reply.started": "2022-01-15T08:33:38.021605Z"
    },
    "papermill": {
     "duration": 0.05406,
     "end_time": "2022-01-17T04:05:54.342472",
     "exception": false,
     "start_time": "2022-01-17T04:05:54.288412",
     "status": "completed"
    },
    "tags": []
   },
   "outputs": [
    {
     "data": {
      "text/plain": [
       "No     73246\n",
       "Yes    18531\n",
       "Name: No_show, dtype: int64"
      ]
     },
     "execution_count": 5,
     "metadata": {},
     "output_type": "execute_result"
    }
   ],
   "source": [
    "no_show_appointments['No_show'].value_counts()"
   ]
  },
  {
   "cell_type": "markdown",
   "id": "024726e6",
   "metadata": {
    "papermill": {
     "duration": 0.024161,
     "end_time": "2022-01-17T04:05:54.391456",
     "exception": false,
     "start_time": "2022-01-17T04:05:54.367295",
     "status": "completed"
    },
    "tags": []
   },
   "source": [
    "The number of patients showing up is 73246 which is much higher than that of the not showing up patients which is 18531. \n",
    "these numbers include the patients that have both attended and non-attended certain appointments."
   ]
  },
  {
   "cell_type": "markdown",
   "id": "e8af72ad",
   "metadata": {
    "papermill": {
     "duration": 0.025626,
     "end_time": "2022-01-17T04:05:54.444000",
     "exception": false,
     "start_time": "2022-01-17T04:05:54.418374",
     "status": "completed"
    },
    "tags": []
   },
   "source": [
    "Now we need to split the data frame into two data frames attended and non attended according to the column No_show, So we extract non attended patients only by taking the outer join of the attended and non attended data frames which result in a 27 column data frame with null values in both attended and non attended data frames. We keep the null values only and exclude the rest as we do not need the intersection, Then split the data frame into new attended and non attended data frames which represent the attended and non attended patients each without intersection with the other one, Finally, clean the new data frame's column names and removing duplicates and NA values."
   ]
  },
  {
   "cell_type": "code",
   "execution_count": 6,
   "id": "3a9ce9f6",
   "metadata": {
    "execution": {
     "iopub.execute_input": "2022-01-17T04:05:54.514211Z",
     "iopub.status.busy": "2022-01-17T04:05:54.505551Z",
     "iopub.status.idle": "2022-01-17T04:05:55.234703Z",
     "shell.execute_reply": "2022-01-17T04:05:55.234007Z",
     "shell.execute_reply.started": "2022-01-15T08:33:38.04795Z"
    },
    "papermill": {
     "duration": 0.765525,
     "end_time": "2022-01-17T04:05:55.234871",
     "exception": false,
     "start_time": "2022-01-17T04:05:54.469346",
     "status": "completed"
    },
    "tags": []
   },
   "outputs": [],
   "source": [
    "# split the data into attended and non attended\n",
    "\n",
    "non_attended = no_show_appointments.query('No_show == \"Yes\"')\n",
    "attended = no_show_appointments.query('No_show == \"No\"')\n",
    "\n",
    "# taking the outer join of the attended and non attended dataframes\n",
    "ds_union = pd.merge(non_attended, attended, how='outer', left_on='PatientId', right_on='PatientId',sort=True)\n",
    "\n",
    "# keep the null values only and exclude the rest\n",
    "ds_union = ds_union[ds_union.isnull().any(axis=1)]\n",
    "\n",
    "# splitting the dataframe into new attended and non attended dataframes\n",
    "\n",
    "non_attended = ds_union.iloc[:,:14]\n",
    "attended = ds_union.iloc[:, np.r_[0,14:27]]\n",
    "\n",
    "#cleaning column names\n",
    "\n",
    "attended=attended.rename(columns = lambda x : str(x)[:-2])\n",
    "attended=attended.rename(columns={\"Patient\": \"PatientId\"})\n",
    "non_attended.columns = non_attended.columns.str.rstrip('_x')\n",
    "\n",
    "#removing dublicates and na values\n",
    "\n",
    "non_attended = ((non_attended.dropna()).drop_duplicates())\n",
    "attended = ((attended.dropna()).drop_duplicates())"
   ]
  },
  {
   "cell_type": "markdown",
   "id": "52147720",
   "metadata": {
    "papermill": {
     "duration": 0.026039,
     "end_time": "2022-01-17T04:05:55.286152",
     "exception": false,
     "start_time": "2022-01-17T04:05:55.260113",
     "status": "completed"
    },
    "tags": []
   },
   "source": [
    "## Analysis"
   ]
  },
  {
   "cell_type": "markdown",
   "id": "62aea284",
   "metadata": {
    "papermill": {
     "duration": 0.025658,
     "end_time": "2022-01-17T04:05:55.338410",
     "exception": false,
     "start_time": "2022-01-17T04:05:55.312752",
     "status": "completed"
    },
    "tags": []
   },
   "source": [
    "Start by viewing statistics about both attended and non_attended patients."
   ]
  },
  {
   "cell_type": "code",
   "execution_count": 7,
   "id": "71fd82b9",
   "metadata": {
    "execution": {
     "iopub.execute_input": "2022-01-17T04:05:55.399586Z",
     "iopub.status.busy": "2022-01-17T04:05:55.398809Z",
     "iopub.status.idle": "2022-01-17T04:05:55.463415Z",
     "shell.execute_reply": "2022-01-17T04:05:55.462839Z",
     "shell.execute_reply.started": "2022-01-15T08:33:38.653544Z"
    },
    "papermill": {
     "duration": 0.099337,
     "end_time": "2022-01-17T04:05:55.463569",
     "exception": false,
     "start_time": "2022-01-17T04:05:55.364232",
     "status": "completed"
    },
    "tags": []
   },
   "outputs": [
    {
     "data": {
      "text/html": [
       "<div>\n",
       "<style scoped>\n",
       "    .dataframe tbody tr th:only-of-type {\n",
       "        vertical-align: middle;\n",
       "    }\n",
       "\n",
       "    .dataframe tbody tr th {\n",
       "        vertical-align: top;\n",
       "    }\n",
       "\n",
       "    .dataframe thead th {\n",
       "        text-align: right;\n",
       "    }\n",
       "</style>\n",
       "<table border=\"1\" class=\"dataframe\">\n",
       "  <thead>\n",
       "    <tr style=\"text-align: right;\">\n",
       "      <th></th>\n",
       "      <th>PatientId</th>\n",
       "      <th>AppointmentID</th>\n",
       "      <th>Age</th>\n",
       "      <th>Scholarship</th>\n",
       "      <th>Hypertension</th>\n",
       "      <th>Diabetes</th>\n",
       "      <th>Alcoholism</th>\n",
       "      <th>Handicap</th>\n",
       "      <th>SMS_received</th>\n",
       "    </tr>\n",
       "  </thead>\n",
       "  <tbody>\n",
       "    <tr>\n",
       "      <th>count</th>\n",
       "      <td>5.549400e+04</td>\n",
       "      <td>5.549400e+04</td>\n",
       "      <td>55494.000000</td>\n",
       "      <td>55494.000000</td>\n",
       "      <td>55494.000000</td>\n",
       "      <td>55494.000000</td>\n",
       "      <td>55494.000000</td>\n",
       "      <td>55494.000000</td>\n",
       "      <td>55494.000000</td>\n",
       "    </tr>\n",
       "    <tr>\n",
       "      <th>mean</th>\n",
       "      <td>1.477974e+14</td>\n",
       "      <td>5.679408e+06</td>\n",
       "      <td>45.299726</td>\n",
       "      <td>0.088820</td>\n",
       "      <td>0.251901</td>\n",
       "      <td>0.089235</td>\n",
       "      <td>0.034328</td>\n",
       "      <td>0.026363</td>\n",
       "      <td>0.302537</td>\n",
       "    </tr>\n",
       "    <tr>\n",
       "      <th>std</th>\n",
       "      <td>2.560986e+14</td>\n",
       "      <td>7.227646e+04</td>\n",
       "      <td>19.494935</td>\n",
       "      <td>0.284487</td>\n",
       "      <td>0.434109</td>\n",
       "      <td>0.285085</td>\n",
       "      <td>0.182072</td>\n",
       "      <td>0.175461</td>\n",
       "      <td>0.459361</td>\n",
       "    </tr>\n",
       "    <tr>\n",
       "      <th>min</th>\n",
       "      <td>3.921784e+04</td>\n",
       "      <td>5.134220e+06</td>\n",
       "      <td>11.000000</td>\n",
       "      <td>0.000000</td>\n",
       "      <td>0.000000</td>\n",
       "      <td>0.000000</td>\n",
       "      <td>0.000000</td>\n",
       "      <td>0.000000</td>\n",
       "      <td>0.000000</td>\n",
       "    </tr>\n",
       "    <tr>\n",
       "      <th>25%</th>\n",
       "      <td>4.177425e+12</td>\n",
       "      <td>5.644543e+06</td>\n",
       "      <td>29.000000</td>\n",
       "      <td>0.000000</td>\n",
       "      <td>0.000000</td>\n",
       "      <td>0.000000</td>\n",
       "      <td>0.000000</td>\n",
       "      <td>0.000000</td>\n",
       "      <td>0.000000</td>\n",
       "    </tr>\n",
       "    <tr>\n",
       "      <th>50%</th>\n",
       "      <td>3.160493e+13</td>\n",
       "      <td>5.684838e+06</td>\n",
       "      <td>46.000000</td>\n",
       "      <td>0.000000</td>\n",
       "      <td>0.000000</td>\n",
       "      <td>0.000000</td>\n",
       "      <td>0.000000</td>\n",
       "      <td>0.000000</td>\n",
       "      <td>0.000000</td>\n",
       "    </tr>\n",
       "    <tr>\n",
       "      <th>75%</th>\n",
       "      <td>9.472719e+13</td>\n",
       "      <td>5.731580e+06</td>\n",
       "      <td>60.000000</td>\n",
       "      <td>0.000000</td>\n",
       "      <td>1.000000</td>\n",
       "      <td>0.000000</td>\n",
       "      <td>0.000000</td>\n",
       "      <td>0.000000</td>\n",
       "      <td>1.000000</td>\n",
       "    </tr>\n",
       "    <tr>\n",
       "      <th>max</th>\n",
       "      <td>9.999686e+14</td>\n",
       "      <td>5.790484e+06</td>\n",
       "      <td>115.000000</td>\n",
       "      <td>1.000000</td>\n",
       "      <td>1.000000</td>\n",
       "      <td>1.000000</td>\n",
       "      <td>1.000000</td>\n",
       "      <td>4.000000</td>\n",
       "      <td>1.000000</td>\n",
       "    </tr>\n",
       "  </tbody>\n",
       "</table>\n",
       "</div>"
      ],
      "text/plain": [
       "          PatientId  AppointmentID           Age   Scholarship  Hypertension  \\\n",
       "count  5.549400e+04   5.549400e+04  55494.000000  55494.000000  55494.000000   \n",
       "mean   1.477974e+14   5.679408e+06     45.299726      0.088820      0.251901   \n",
       "std    2.560986e+14   7.227646e+04     19.494935      0.284487      0.434109   \n",
       "min    3.921784e+04   5.134220e+06     11.000000      0.000000      0.000000   \n",
       "25%    4.177425e+12   5.644543e+06     29.000000      0.000000      0.000000   \n",
       "50%    3.160493e+13   5.684838e+06     46.000000      0.000000      0.000000   \n",
       "75%    9.472719e+13   5.731580e+06     60.000000      0.000000      1.000000   \n",
       "max    9.999686e+14   5.790484e+06    115.000000      1.000000      1.000000   \n",
       "\n",
       "           Diabetes    Alcoholism      Handicap  SMS_received  \n",
       "count  55494.000000  55494.000000  55494.000000  55494.000000  \n",
       "mean       0.089235      0.034328      0.026363      0.302537  \n",
       "std        0.285085      0.182072      0.175461      0.459361  \n",
       "min        0.000000      0.000000      0.000000      0.000000  \n",
       "25%        0.000000      0.000000      0.000000      0.000000  \n",
       "50%        0.000000      0.000000      0.000000      0.000000  \n",
       "75%        0.000000      0.000000      0.000000      1.000000  \n",
       "max        1.000000      1.000000      4.000000      1.000000  "
      ]
     },
     "execution_count": 7,
     "metadata": {},
     "output_type": "execute_result"
    }
   ],
   "source": [
    "attended.describe()"
   ]
  },
  {
   "cell_type": "code",
   "execution_count": 8,
   "id": "74fa4c5c",
   "metadata": {
    "execution": {
     "iopub.execute_input": "2022-01-17T04:05:55.520151Z",
     "iopub.status.busy": "2022-01-17T04:05:55.519439Z",
     "iopub.status.idle": "2022-01-17T04:05:55.562959Z",
     "shell.execute_reply": "2022-01-17T04:05:55.563631Z",
     "shell.execute_reply.started": "2022-01-15T08:33:38.713147Z"
    },
    "papermill": {
     "duration": 0.073894,
     "end_time": "2022-01-17T04:05:55.563899",
     "exception": false,
     "start_time": "2022-01-17T04:05:55.490005",
     "status": "completed"
    },
    "tags": []
   },
   "outputs": [
    {
     "data": {
      "text/html": [
       "<div>\n",
       "<style scoped>\n",
       "    .dataframe tbody tr th:only-of-type {\n",
       "        vertical-align: middle;\n",
       "    }\n",
       "\n",
       "    .dataframe tbody tr th {\n",
       "        vertical-align: top;\n",
       "    }\n",
       "\n",
       "    .dataframe thead th {\n",
       "        text-align: right;\n",
       "    }\n",
       "</style>\n",
       "<table border=\"1\" class=\"dataframe\">\n",
       "  <thead>\n",
       "    <tr style=\"text-align: right;\">\n",
       "      <th></th>\n",
       "      <th>PatientId</th>\n",
       "      <th>AppointmentID</th>\n",
       "      <th>Age</th>\n",
       "      <th>Scholarship</th>\n",
       "      <th>Hypertension</th>\n",
       "      <th>Diabetes</th>\n",
       "      <th>Alcoholism</th>\n",
       "      <th>Handicap</th>\n",
       "      <th>SMS_received</th>\n",
       "    </tr>\n",
       "  </thead>\n",
       "  <tbody>\n",
       "    <tr>\n",
       "      <th>count</th>\n",
       "      <td>7.766000e+03</td>\n",
       "      <td>7.766000e+03</td>\n",
       "      <td>7766.000000</td>\n",
       "      <td>7766.000000</td>\n",
       "      <td>7766.000000</td>\n",
       "      <td>7766.000000</td>\n",
       "      <td>7766.000000</td>\n",
       "      <td>7766.000000</td>\n",
       "      <td>7766.000000</td>\n",
       "    </tr>\n",
       "    <tr>\n",
       "      <th>mean</th>\n",
       "      <td>1.495930e+14</td>\n",
       "      <td>5.640719e+06</td>\n",
       "      <td>39.569534</td>\n",
       "      <td>0.109580</td>\n",
       "      <td>0.186840</td>\n",
       "      <td>0.069663</td>\n",
       "      <td>0.034896</td>\n",
       "      <td>0.016353</td>\n",
       "      <td>0.450039</td>\n",
       "    </tr>\n",
       "    <tr>\n",
       "      <th>std</th>\n",
       "      <td>2.563013e+14</td>\n",
       "      <td>7.910955e+04</td>\n",
       "      <td>18.964005</td>\n",
       "      <td>0.312386</td>\n",
       "      <td>0.389808</td>\n",
       "      <td>0.254594</td>\n",
       "      <td>0.183527</td>\n",
       "      <td>0.139414</td>\n",
       "      <td>0.497530</td>\n",
       "    </tr>\n",
       "    <tr>\n",
       "      <th>min</th>\n",
       "      <td>5.628261e+06</td>\n",
       "      <td>5.122866e+06</td>\n",
       "      <td>11.000000</td>\n",
       "      <td>0.000000</td>\n",
       "      <td>0.000000</td>\n",
       "      <td>0.000000</td>\n",
       "      <td>0.000000</td>\n",
       "      <td>0.000000</td>\n",
       "      <td>0.000000</td>\n",
       "    </tr>\n",
       "    <tr>\n",
       "      <th>25%</th>\n",
       "      <td>4.323460e+12</td>\n",
       "      <td>5.598450e+06</td>\n",
       "      <td>24.000000</td>\n",
       "      <td>0.000000</td>\n",
       "      <td>0.000000</td>\n",
       "      <td>0.000000</td>\n",
       "      <td>0.000000</td>\n",
       "      <td>0.000000</td>\n",
       "      <td>0.000000</td>\n",
       "    </tr>\n",
       "    <tr>\n",
       "      <th>50%</th>\n",
       "      <td>3.295194e+13</td>\n",
       "      <td>5.644410e+06</td>\n",
       "      <td>37.000000</td>\n",
       "      <td>0.000000</td>\n",
       "      <td>0.000000</td>\n",
       "      <td>0.000000</td>\n",
       "      <td>0.000000</td>\n",
       "      <td>0.000000</td>\n",
       "      <td>0.000000</td>\n",
       "    </tr>\n",
       "    <tr>\n",
       "      <th>75%</th>\n",
       "      <td>9.623847e+13</td>\n",
       "      <td>5.694508e+06</td>\n",
       "      <td>53.000000</td>\n",
       "      <td>0.000000</td>\n",
       "      <td>0.000000</td>\n",
       "      <td>0.000000</td>\n",
       "      <td>0.000000</td>\n",
       "      <td>0.000000</td>\n",
       "      <td>1.000000</td>\n",
       "    </tr>\n",
       "    <tr>\n",
       "      <th>max</th>\n",
       "      <td>9.996585e+14</td>\n",
       "      <td>5.789979e+06</td>\n",
       "      <td>97.000000</td>\n",
       "      <td>1.000000</td>\n",
       "      <td>1.000000</td>\n",
       "      <td>1.000000</td>\n",
       "      <td>1.000000</td>\n",
       "      <td>3.000000</td>\n",
       "      <td>1.000000</td>\n",
       "    </tr>\n",
       "  </tbody>\n",
       "</table>\n",
       "</div>"
      ],
      "text/plain": [
       "          PatientId  AppointmentID          Age  Scholarship  Hypertension  \\\n",
       "count  7.766000e+03   7.766000e+03  7766.000000  7766.000000   7766.000000   \n",
       "mean   1.495930e+14   5.640719e+06    39.569534     0.109580      0.186840   \n",
       "std    2.563013e+14   7.910955e+04    18.964005     0.312386      0.389808   \n",
       "min    5.628261e+06   5.122866e+06    11.000000     0.000000      0.000000   \n",
       "25%    4.323460e+12   5.598450e+06    24.000000     0.000000      0.000000   \n",
       "50%    3.295194e+13   5.644410e+06    37.000000     0.000000      0.000000   \n",
       "75%    9.623847e+13   5.694508e+06    53.000000     0.000000      0.000000   \n",
       "max    9.996585e+14   5.789979e+06    97.000000     1.000000      1.000000   \n",
       "\n",
       "          Diabetes   Alcoholism     Handicap  SMS_received  \n",
       "count  7766.000000  7766.000000  7766.000000   7766.000000  \n",
       "mean      0.069663     0.034896     0.016353      0.450039  \n",
       "std       0.254594     0.183527     0.139414      0.497530  \n",
       "min       0.000000     0.000000     0.000000      0.000000  \n",
       "25%       0.000000     0.000000     0.000000      0.000000  \n",
       "50%       0.000000     0.000000     0.000000      0.000000  \n",
       "75%       0.000000     0.000000     0.000000      1.000000  \n",
       "max       1.000000     1.000000     3.000000      1.000000  "
      ]
     },
     "execution_count": 8,
     "metadata": {},
     "output_type": "execute_result"
    }
   ],
   "source": [
    "non_attended.describe()"
   ]
  },
  {
   "cell_type": "markdown",
   "id": "8d8b5f1b",
   "metadata": {
    "papermill": {
     "duration": 0.027491,
     "end_time": "2022-01-17T04:05:55.619133",
     "exception": false,
     "start_time": "2022-01-17T04:05:55.591642",
     "status": "completed"
    },
    "tags": []
   },
   "source": [
    "We see that the mean age of the non-attended patient is 39.6 years less than the attended patient which is 45.3."
   ]
  },
  {
   "cell_type": "markdown",
   "id": "3b3724b8",
   "metadata": {
    "papermill": {
     "duration": 0.027385,
     "end_time": "2022-01-17T04:05:55.677275",
     "exception": false,
     "start_time": "2022-01-17T04:05:55.649890",
     "status": "completed"
    },
    "tags": []
   },
   "source": [
    "Now let's split the non-attended patients into males and females, Also split the non-attended patients into diabetic and non-diabetic, alcoholic and non-alcoholic, and hypertension and no hypertension."
   ]
  },
  {
   "cell_type": "code",
   "execution_count": 9,
   "id": "72487a64",
   "metadata": {
    "execution": {
     "iopub.execute_input": "2022-01-17T04:05:55.736868Z",
     "iopub.status.busy": "2022-01-17T04:05:55.735789Z",
     "iopub.status.idle": "2022-01-17T04:05:55.774698Z",
     "shell.execute_reply": "2022-01-17T04:05:55.775652Z",
     "shell.execute_reply.started": "2022-01-15T08:33:38.754888Z"
    },
    "papermill": {
     "duration": 0.071452,
     "end_time": "2022-01-17T04:05:55.776016",
     "exception": false,
     "start_time": "2022-01-17T04:05:55.704564",
     "status": "completed"
    },
    "tags": []
   },
   "outputs": [],
   "source": [
    "# split the non attended patients into males and females\n",
    "\n",
    "female_non_attended = non_attended[non_attended['Gender'] == 'F']\n",
    "male_non_attended = non_attended[non_attended['Gender'] == 'M']\n",
    "\n",
    "# split the non attended patients into diabetic and non diabetic\n",
    "\n",
    "diabetic_non_attended = non_attended.query('Diabetes == 1.0')\n",
    "non_diabetic_non_attended = non_attended.query('Diabetes == 0.0')\n",
    "\n",
    "# split the non attended patients into alcoholic and non_attended\n",
    "\n",
    "alcoholic_non_attended = non_attended.query('Alcoholism == 1.0')\n",
    "non_alcoholic_non_attended = non_attended.query('Alcoholism == 0.0')\n",
    "\n",
    "# split the non attended patients into hypertension and no hypertension\n",
    "\n",
    "hypertension_non_attended = non_attended.query('Hypertension == 1.0')\n",
    "no_hypertension_non_attended = non_attended.query('Hypertension == 0.0')"
   ]
  },
  {
   "cell_type": "markdown",
   "id": "c26b77b8",
   "metadata": {
    "papermill": {
     "duration": 0.027984,
     "end_time": "2022-01-17T04:05:55.832314",
     "exception": false,
     "start_time": "2022-01-17T04:05:55.804330",
     "status": "completed"
    },
    "tags": []
   },
   "source": [
    "Now it is time to view the relation between non-attended females and males."
   ]
  },
  {
   "cell_type": "code",
   "execution_count": 10,
   "id": "ed5c3728",
   "metadata": {
    "execution": {
     "iopub.execute_input": "2022-01-17T04:05:55.893804Z",
     "iopub.status.busy": "2022-01-17T04:05:55.889014Z",
     "iopub.status.idle": "2022-01-17T04:05:55.897843Z",
     "shell.execute_reply": "2022-01-17T04:05:55.897114Z",
     "shell.execute_reply.started": "2022-01-15T08:33:38.792558Z"
    },
    "papermill": {
     "duration": 0.040385,
     "end_time": "2022-01-17T04:05:55.898001",
     "exception": false,
     "start_time": "2022-01-17T04:05:55.857616",
     "status": "completed"
    },
    "tags": []
   },
   "outputs": [
    {
     "name": "stdout",
     "output_type": "stream",
     "text": [
      "female non attended mean Age: 39.8716796875 years\n",
      "male non attended mean Age: 38.9848828420257 years\n"
     ]
    }
   ],
   "source": [
    "# mean values of non attended females and males\n",
    "\n",
    "print ('female non attended mean Age:',female_non_attended['Age'].mean(),'years')\n",
    "print ('male non attended mean Age:',male_non_attended['Age'].mean(),'years')"
   ]
  },
  {
   "cell_type": "markdown",
   "id": "8f8f5a8c",
   "metadata": {
    "papermill": {
     "duration": 0.026244,
     "end_time": "2022-01-17T04:05:55.951139",
     "exception": false,
     "start_time": "2022-01-17T04:05:55.924895",
     "status": "completed"
    },
    "tags": []
   },
   "source": [
    "There is no big difference between the mean age between females and males not showing up. \n",
    "The following graph shows the relation between non-attended females and males with age."
   ]
  },
  {
   "cell_type": "code",
   "execution_count": 11,
   "id": "194241af",
   "metadata": {
    "execution": {
     "iopub.execute_input": "2022-01-17T04:05:56.025718Z",
     "iopub.status.busy": "2022-01-17T04:05:56.009854Z",
     "iopub.status.idle": "2022-01-17T04:05:56.313758Z",
     "shell.execute_reply": "2022-01-17T04:05:56.313138Z",
     "shell.execute_reply.started": "2022-01-15T08:33:38.801204Z"
    },
    "papermill": {
     "duration": 0.335021,
     "end_time": "2022-01-17T04:05:56.313933",
     "exception": false,
     "start_time": "2022-01-17T04:05:55.978912",
     "status": "completed"
    },
    "tags": []
   },
   "outputs": [
    {
     "data": {
      "image/png": "[encoded data removed]",
      "text/plain": [
       "<Figure size 1008x576 with 1 Axes>"
      ]
     },
     "metadata": {
      "needs_background": "light"
     },
     "output_type": "display_data"
    }
   ],
   "source": [
    "# non attended females and males with age graph\n",
    "\n",
    "fig,fg=plt.subplots(figsize=(14, 8))\n",
    "female_non_attended['Age'].hist(alpha = 0.5, label='Female')\n",
    "male_non_attended['Age'].hist(alpha = 0.5, label='Male')\n",
    "fg.legend(loc='upper right', fontsize=18)\n",
    "fg.set_ylabel('Number of patients', fontsize=18)\n",
    "fg.set_xlabel('Age', fontsize=18)\n",
    "fg.set_title('Non attended females and males at different ages', fontsize=18)\n",
    "plt.xticks(fontsize=18)\n",
    "plt.yticks(fontsize=18)\n",
    "plt.show()"
   ]
  },
  {
   "cell_type": "markdown",
   "id": "f2411ebf",
   "metadata": {
    "papermill": {
     "duration": 0.027346,
     "end_time": "2022-01-17T04:05:56.369492",
     "exception": false,
     "start_time": "2022-01-17T04:05:56.342146",
     "status": "completed"
    },
    "tags": []
   },
   "source": [
    "As you can see the figure does not shows a different pattern between males and females, It is clear in both males and females that the number of patients not attended is high in teenagers then decreases with increasing age."
   ]
  },
  {
   "cell_type": "markdown",
   "id": "70c4515f",
   "metadata": {
    "papermill": {
     "duration": 0.028858,
     "end_time": "2022-01-17T04:05:56.427363",
     "exception": false,
     "start_time": "2022-01-17T04:05:56.398505",
     "status": "completed"
    },
    "tags": []
   },
   "source": [
    "The following figure demonstrates an important aspect of the effect of hypertension and diabetes on the patient not showing up to an appointment."
   ]
  },
  {
   "cell_type": "code",
   "execution_count": 12,
   "id": "041a4608",
   "metadata": {
    "execution": {
     "iopub.execute_input": "2022-01-17T04:05:56.517823Z",
     "iopub.status.busy": "2022-01-17T04:05:56.510622Z",
     "iopub.status.idle": "2022-01-17T04:05:57.194441Z",
     "shell.execute_reply": "2022-01-17T04:05:57.195072Z",
     "shell.execute_reply.started": "2022-01-15T08:33:39.043788Z"
    },
    "papermill": {
     "duration": 0.740136,
     "end_time": "2022-01-17T04:05:57.195280",
     "exception": false,
     "start_time": "2022-01-17T04:05:56.455144",
     "status": "completed"
    },
    "tags": []
   },
   "outputs": [
    {
     "data": {
      "image/png": "[encoded data removed]",
      "text/plain": [
       "<Figure size 1008x576 with 1 Axes>"
      ]
     },
     "metadata": {
      "needs_background": "light"
     },
     "output_type": "display_data"
    },
    {
     "data": {
      "image/png": "[encoded data removed]",
      "text/plain": [
       "<Figure size 1008x576 with 1 Axes>"
      ]
     },
     "metadata": {
      "needs_background": "light"
     },
     "output_type": "display_data"
    }
   ],
   "source": [
    "# non diabetic, non alcoholic and patients with no hypertension graph\n",
    "\n",
    "fig,fg=plt.subplots(figsize=(14, 8))\n",
    "non_diabetic_non_attended['Age'].hist(alpha = 0.25, label='Non diabetic')\n",
    "no_hypertension_non_attended['Age'].hist(alpha = 0.25, label='No hypertension')\n",
    "non_alcoholic_non_attended['Age'].hist(alpha = 0.25, label='Non alcoholic')\n",
    "fg.legend(loc='upper right', fontsize=18)\n",
    "fg.set_ylabel('Number of patients', fontsize=18)\n",
    "fg.set_xlabel('Age', fontsize=18)\n",
    "fg.set_title('Non diabetic, non alcoholic and patients with no hypertension at different ages', fontsize=18)\n",
    "plt.xticks(fontsize=18)\n",
    "plt.yticks(fontsize=18)\n",
    "plt.show()\n",
    "\n",
    "# diabetic, alcoholic and patients with hypertension graph\n",
    "\n",
    "fig1,fg1=plt.subplots(figsize=(14, 8))\n",
    "diabetic_non_attended['Age'].hist(alpha = 0.5, label='Diabetic')\n",
    "hypertension_non_attended['Age'].hist(alpha = 0.5, label='Hypertension')\n",
    "alcoholic_non_attended['Age'].hist(alpha = 0.5, label='Alcoholic')\n",
    "fg1.legend(loc='upper right', fontsize=18)\n",
    "fg1.set_ylabel('Number of patients', fontsize=18)\n",
    "fg1.set_xlabel('Age', fontsize=18)\n",
    "fg1.set_title('Diabetic, alcoholic and patients with hypertension at different ages', fontsize=18)\n",
    "plt.xticks(fontsize=18)\n",
    "plt.yticks(fontsize=18)\n",
    "plt.show()\n"
   ]
  },
  {
   "cell_type": "code",
   "execution_count": 13,
   "id": "a5b11fd4",
   "metadata": {
    "execution": {
     "iopub.execute_input": "2022-01-17T04:05:57.267682Z",
     "iopub.status.busy": "2022-01-17T04:05:57.266741Z",
     "iopub.status.idle": "2022-01-17T04:05:57.270371Z",
     "shell.execute_reply": "2022-01-17T04:05:57.270873Z",
     "shell.execute_reply.started": "2022-01-15T08:33:39.686092Z"
    },
    "papermill": {
     "duration": 0.044508,
     "end_time": "2022-01-17T04:05:57.271046",
     "exception": false,
     "start_time": "2022-01-17T04:05:57.226538",
     "status": "completed"
    },
    "tags": []
   },
   "outputs": [
    {
     "name": "stdout",
     "output_type": "stream",
     "text": [
      "Non diabetic mean Age: 38.00553633217993 years\n",
      "No hypertension mean Age: 34.9230403800475 years\n",
      "Non alcoholic mean Age: 39.2837891927952 years\n"
     ]
    }
   ],
   "source": [
    "print ('Non diabetic mean Age:',non_diabetic_non_attended['Age'].mean(),'years')\n",
    "print ('No hypertension mean Age:',no_hypertension_non_attended['Age'].mean(),'years')\n",
    "print ('Non alcoholic mean Age:',non_alcoholic_non_attended['Age'].mean(),'years')"
   ]
  },
  {
   "cell_type": "code",
   "execution_count": 14,
   "id": "92f821b4",
   "metadata": {
    "execution": {
     "iopub.execute_input": "2022-01-17T04:05:57.338916Z",
     "iopub.status.busy": "2022-01-17T04:05:57.337852Z",
     "iopub.status.idle": "2022-01-17T04:05:57.347520Z",
     "shell.execute_reply": "2022-01-17T04:05:57.348440Z",
     "shell.execute_reply.started": "2022-01-15T08:33:39.696186Z"
    },
    "papermill": {
     "duration": 0.045228,
     "end_time": "2022-01-17T04:05:57.348811",
     "exception": false,
     "start_time": "2022-01-17T04:05:57.303583",
     "status": "completed"
    },
    "tags": []
   },
   "outputs": [
    {
     "name": "stdout",
     "output_type": "stream",
     "text": [
      "Diabetic mean Age: 60.45656192236599 years\n",
      "Hypertension mean Age: 59.79186767746382 years\n",
      "Alcoholic mean Age: 47.47232472324723 years\n"
     ]
    }
   ],
   "source": [
    "print ('Diabetic mean Age:',diabetic_non_attended['Age'].mean(),'years')\n",
    "print ('Hypertension mean Age:',hypertension_non_attended['Age'].mean(),'years')\n",
    "print ('Alcoholic mean Age:',alcoholic_non_attended['Age'].mean(),'years')"
   ]
  },
  {
   "cell_type": "markdown",
   "id": "d51cdd9d",
   "metadata": {
    "papermill": {
     "duration": 0.032338,
     "end_time": "2022-01-17T04:05:57.412872",
     "exception": false,
     "start_time": "2022-01-17T04:05:57.380534",
     "status": "completed"
    },
    "tags": []
   },
   "source": [
    "As most of the patients are non-diabetic, non-alcoholic, and have no hypertension, The overall behavior affects the male/female graph with age shown above, But the patients with hypertension or the diabetic or alcoholic patients show a different pattern, The diabetic/alcoholic/hypertension non attended teenage patients are small in numbers then the number of patients with the mentioned health conditions increases significantly passing by midlife age and reaches its peak at the age of retirement and then decreases with aging."
   ]
  },
  {
   "cell_type": "markdown",
   "id": "0687a0f5",
   "metadata": {
    "papermill": {
     "duration": 0.032782,
     "end_time": "2022-01-17T04:05:57.477492",
     "exception": false,
     "start_time": "2022-01-17T04:05:57.444710",
     "status": "completed"
    },
    "tags": []
   },
   "source": [
    "### Limitations\n",
    "\n",
    "I have a little concern about the diabetic and alcoholic patients' representation of the population."
   ]
  },
  {
   "cell_type": "code",
   "execution_count": 15,
   "id": "4fdb39ce",
   "metadata": {
    "execution": {
     "iopub.execute_input": "2022-01-17T04:05:57.556235Z",
     "iopub.status.busy": "2022-01-17T04:05:57.555206Z",
     "iopub.status.idle": "2022-01-17T04:05:57.563883Z",
     "shell.execute_reply": "2022-01-17T04:05:57.564712Z",
     "shell.execute_reply.started": "2022-01-15T08:33:39.712292Z"
    },
    "papermill": {
     "duration": 0.052836,
     "end_time": "2022-01-17T04:05:57.564983",
     "exception": false,
     "start_time": "2022-01-17T04:05:57.512147",
     "status": "completed"
    },
    "tags": []
   },
   "outputs": [
    {
     "name": "stdout",
     "output_type": "stream",
     "text": [
      "Percentage of non attended diabetic patient: 6.97 %\n",
      "Percentage of non attended alcoholic patient: 3.49 %\n",
      "Non attended Patients mean age: 39.57 years\n"
     ]
    }
   ],
   "source": [
    "print ('Percentage of non attended diabetic patient:',round(100*sum(non_attended['Diabetes']) / non_attended['PatientId'].count() , 2),'%')\n",
    "print ('Percentage of non attended alcoholic patient:',round(100*sum(non_attended['Alcoholism']) / non_attended['PatientId'].count() , 2),'%')\n",
    "print ('Non attended Patients mean age:',round(non_attended['Age'].mean() , 2), 'years')"
   ]
  },
  {
   "cell_type": "markdown",
   "id": "52db3b1e",
   "metadata": {
    "papermill": {
     "duration": 0.030932,
     "end_time": "2022-01-17T04:05:57.629044",
     "exception": false,
     "start_time": "2022-01-17T04:05:57.598112",
     "status": "completed"
    },
    "tags": []
   },
   "source": [
    "As you can see from the previous percentages that diabetic and alcoholic patients have a very low representation of the population, This seems to be natural, however, the average age of non-diabetic and non-alcoholic patients is 38.01 and 39.28 years respectively, Compared to diabetic and alcoholic patients which are 60.46 and 47.47 years, This shifts the overall average age of non attended patients to 39.57 years. So it is better to get more data about diabetic and alcoholic patients as it has a great impact on the overall average age of non-attended patients. "
   ]
  },
  {
   "cell_type": "markdown",
   "id": "883918ef",
   "metadata": {
    "papermill": {
     "duration": 0.03057,
     "end_time": "2022-01-17T04:05:57.692864",
     "exception": false,
     "start_time": "2022-01-17T04:05:57.662294",
     "status": "completed"
    },
    "tags": []
   },
   "source": [
    "###  So to conclude:"
   ]
  },
  {
   "cell_type": "markdown",
   "id": "a6c87b7f",
   "metadata": {
    "papermill": {
     "duration": 0.03243,
     "end_time": "2022-01-17T04:05:57.757877",
     "exception": false,
     "start_time": "2022-01-17T04:05:57.725447",
     "status": "completed"
    },
    "tags": []
   },
   "source": [
    "- As most of the patients are non-diabetic, non-alcoholic, and have no hypertension, The overall behavior affects the overall mean age of the non-attended patients, making the average of the non-attended patient's age is 39.6 years which is less than attended patient is 45.3.\n",
    "\n",
    "- The diabetic/alcoholic/hypertension non attended teenage patients number are small then the number of patients increases significantly passing by midlife age and reaching the retirement age and then decreases with aging.\n",
    "\n",
    "- So the age of the patient and his health status (diabetic, alcoholic, and hypertension) are related to each other, The health status mentioned results in increasing levels of patients not showing up for the scheduled appointments."
   ]
  }
 ],
 "metadata": {
  "kernelspec": {
   "display_name": "Python 3",
   "language": "python",
   "name": "python3"
  },
  "language_info": {
   "codemirror_mode": {
    "name": "ipython",
    "version": 3
   },
   "file_extension": ".py",
   "mimetype": "text/x-python",
   "name": "python",
   "nbconvert_exporter": "python",
   "pygments_lexer": "ipython3",
   "version": "3.7.12"
  },
  "papermill": {
   "default_parameters": {},
   "duration": 19.235217,
   "end_time": "2022-01-17T04:05:58.804166",
   "environment_variables": {},
   "exception": null,
   "input_path": "__notebook__.ipynb",
   "output_path": "__notebook__.ipynb",
   "parameters": {},
   "start_time": "2022-01-17T04:05:39.568949",
   "version": "2.3.3"
  }
 },
 "nbformat": 4,
 "nbformat_minor": 5
}
